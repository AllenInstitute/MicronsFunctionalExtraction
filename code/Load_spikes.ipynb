{
 "cells": [
  {
   "cell_type": "code",
   "execution_count": 1,
   "id": "f4b1daa0-0627-4f67-887c-ff9c69cc9ec3",
   "metadata": {
    "tags": []
   },
   "outputs": [
    {
     "name": "stdout",
     "output_type": "stream",
     "text": [
      "Connecting microns@db.datajoint.com:3306\n"
     ]
    },
    {
     "name": "stderr",
     "output_type": "stream",
     "text": [
      "/opt/conda/lib/python3.9/site-packages/tqdm/auto.py:22: TqdmWarning: IProgress not found. Please update jupyter and ipywidgets. See https://ipywidgets.readthedocs.io/en/stable/user_install.html\n",
      "  from .autonotebook import tqdm as notebook_tqdm\n"
     ]
    }
   ],
   "source": [
    "import os\n",
    "os.environ['DJ_HOST']=\"db.datajoint.com\"\n",
    "os.environ['DJ_USER']=\"microns\"\n",
    "os.environ['DJ_PASS']=\"microns2023\"\n",
    "os.environ['DATABASE_PREFIX']=\"microns_\"\n",
    "\n",
    "import datajoint as dj\n",
    "from microns_phase3 import nda, utils\n",
    " "
   ]
  },
  {
   "cell_type": "code",
   "execution_count": 2,
   "id": "46f5016d-99cd-4a39-88da-f31ae3bec7d6",
   "metadata": {
    "tags": []
   },
   "outputs": [],
   "source": [
    "import pandas as pd\n",
    "import numpy as np"
   ]
  },
  {
   "cell_type": "code",
   "execution_count": 3,
   "id": "c492f4c8-73f5-4654-ab6f-a692733ebf90",
   "metadata": {
    "tags": []
   },
   "outputs": [],
   "source": [
    "scan_df = pd.DataFrame(nda.Scan & nda.ScanInclude)"
   ]
  },
  {
   "cell_type": "code",
   "execution_count": 9,
   "id": "86d63703-2583-4a9e-966c-ded2d052267a",
   "metadata": {
    "tags": []
   },
   "outputs": [
    {
     "name": "stdout",
     "output_type": "stream",
     "text": [
      "CPU times: user 9.18 s, sys: 1.71 s, total: 10.9 s\n",
      "Wall time: 36 s\n",
      "written: ../scratch/spikes_session-4_scan-7\n",
      "CPU times: user 11.2 s, sys: 1.43 s, total: 12.6 s\n",
      "Wall time: 54.3 s\n",
      "written: ../scratch/spikes_session-5_scan-6\n",
      "CPU times: user 10.7 s, sys: 776 ms, total: 11.5 s\n",
      "Wall time: 51.6 s\n",
      "written: ../scratch/spikes_session-5_scan-7\n",
      "CPU times: user 9.51 s, sys: 605 ms, total: 10.1 s\n",
      "Wall time: 50.5 s\n",
      "written: ../scratch/spikes_session-6_scan-2\n",
      "CPU times: user 9.97 s, sys: 687 ms, total: 10.7 s\n",
      "Wall time: 50 s\n",
      "written: ../scratch/spikes_session-6_scan-4\n",
      "CPU times: user 9.32 s, sys: 638 ms, total: 9.96 s\n",
      "Wall time: 48 s\n",
      "written: ../scratch/spikes_session-6_scan-6\n",
      "CPU times: user 9.34 s, sys: 651 ms, total: 9.99 s\n",
      "Wall time: 47.8 s\n",
      "written: ../scratch/spikes_session-6_scan-7\n",
      "CPU times: user 11.4 s, sys: 1.52 s, total: 12.9 s\n",
      "Wall time: 54.4 s\n",
      "written: ../scratch/spikes_session-7_scan-3\n",
      "CPU times: user 15.7 s, sys: 1.52 s, total: 17.2 s\n",
      "Wall time: 1min 11s\n",
      "written: ../scratch/spikes_session-7_scan-4\n",
      "CPU times: user 10.7 s, sys: 728 ms, total: 11.4 s\n",
      "Wall time: 52.9 s\n",
      "written: ../scratch/spikes_session-7_scan-5\n",
      "CPU times: user 12.5 s, sys: 1.34 s, total: 13.8 s\n",
      "Wall time: 1min 1s\n",
      "written: ../scratch/spikes_session-8_scan-5\n",
      "CPU times: user 11.6 s, sys: 979 ms, total: 12.6 s\n",
      "Wall time: 1min 3s\n",
      "written: ../scratch/spikes_session-9_scan-3\n",
      "CPU times: user 11.4 s, sys: 739 ms, total: 12.1 s\n",
      "Wall time: 1min 2s\n",
      "written: ../scratch/spikes_session-9_scan-4\n",
      "CPU times: user 9.05 s, sys: 554 ms, total: 9.61 s\n",
      "Wall time: 47.9 s\n",
      "written: ../scratch/spikes_session-9_scan-6\n",
      "CPU times: user 3min 58s, sys: 58.9 s, total: 4min 57s\n",
      "Wall time: 15min 42s\n"
     ]
    }
   ],
   "source": [
    "%%time \n",
    "\n",
    "for _, scan_row in scan_df.iterrows():\n",
    "    scan_key = scan_row[[\"session\", \"scan_idx\"]].astype(int).to_dict()\n",
    "    \n",
    "    out_path = f\"../scratch/spikes_session-{scan_key['session']}_scan-{scan_key['scan_idx']}\"\n",
    "    if os.path.exists(out_path): continue\n",
    "    \n",
    "    %time trace_df = pd.DataFrame((nda.Activity() & scan_key).fetch())\n",
    "        \n",
    "    trace_df.reset_index(drop=True).to_feather(out_path, compression=\"zstd\")\n",
    "    print(f\"written: {out_path}\")\n"
   ]
  },
  {
   "cell_type": "code",
   "execution_count": 8,
   "id": "b0c0cf88-e665-4e19-9dc3-7e25e80b236c",
   "metadata": {
    "tags": []
   },
   "outputs": [
    {
     "data": {
      "text/html": [
       "<div>\n",
       "<style scoped>\n",
       "    .dataframe tbody tr th:only-of-type {\n",
       "        vertical-align: middle;\n",
       "    }\n",
       "\n",
       "    .dataframe tbody tr th {\n",
       "        vertical-align: top;\n",
       "    }\n",
       "\n",
       "    .dataframe thead th {\n",
       "        text-align: right;\n",
       "    }\n",
       "</style>\n",
       "<table border=\"1\" class=\"dataframe\">\n",
       "  <thead>\n",
       "    <tr style=\"text-align: right;\">\n",
       "      <th></th>\n",
       "      <th>session</th>\n",
       "      <th>scan_idx</th>\n",
       "      <th>unit_id</th>\n",
       "      <th>trace</th>\n",
       "    </tr>\n",
       "  </thead>\n",
       "  <tbody>\n",
       "    <tr>\n",
       "      <th>0</th>\n",
       "      <td>4</td>\n",
       "      <td>7</td>\n",
       "      <td>1</td>\n",
       "      <td>[3.1146147e-08, 7.376044, 0.05481007, 4.498487...</td>\n",
       "    </tr>\n",
       "    <tr>\n",
       "      <th>1</th>\n",
       "      <td>4</td>\n",
       "      <td>7</td>\n",
       "      <td>2</td>\n",
       "      <td>[1.2991421e-09, 8.378806e-09, 1.0194022e-08, 8...</td>\n",
       "    </tr>\n",
       "    <tr>\n",
       "      <th>2</th>\n",
       "      <td>4</td>\n",
       "      <td>7</td>\n",
       "      <td>3</td>\n",
       "      <td>[2.4717295e-08, 0.592512, 1.3852139e-07, 2.089...</td>\n",
       "    </tr>\n",
       "    <tr>\n",
       "      <th>3</th>\n",
       "      <td>4</td>\n",
       "      <td>7</td>\n",
       "      <td>4</td>\n",
       "      <td>[5.5165543e-09, 1.931786e-08, 1.7477124e-08, 1...</td>\n",
       "    </tr>\n",
       "    <tr>\n",
       "      <th>4</th>\n",
       "      <td>4</td>\n",
       "      <td>7</td>\n",
       "      <td>5</td>\n",
       "      <td>[9.728543e-09, 1.3600317, 3.9126465, 9.3379117...</td>\n",
       "    </tr>\n",
       "    <tr>\n",
       "      <th>...</th>\n",
       "      <td>...</td>\n",
       "      <td>...</td>\n",
       "      <td>...</td>\n",
       "      <td>...</td>\n",
       "    </tr>\n",
       "    <tr>\n",
       "      <th>8390</th>\n",
       "      <td>4</td>\n",
       "      <td>7</td>\n",
       "      <td>8391</td>\n",
       "      <td>[6.219988e-08, 6.1504444e-08, 5.105616e-08, 4....</td>\n",
       "    </tr>\n",
       "    <tr>\n",
       "      <th>8391</th>\n",
       "      <td>4</td>\n",
       "      <td>7</td>\n",
       "      <td>8392</td>\n",
       "      <td>[2.3322086e-08, 2.4178439e-08, 5.1480455e-08, ...</td>\n",
       "    </tr>\n",
       "    <tr>\n",
       "      <th>8392</th>\n",
       "      <td>4</td>\n",
       "      <td>7</td>\n",
       "      <td>8393</td>\n",
       "      <td>[3.8553278e-08, 5.572705e-08, 1.3915052e-07, 5...</td>\n",
       "    </tr>\n",
       "    <tr>\n",
       "      <th>8393</th>\n",
       "      <td>4</td>\n",
       "      <td>7</td>\n",
       "      <td>8394</td>\n",
       "      <td>[2.4268843e-08, 2.1006255e-08, 1.8668368e-08, ...</td>\n",
       "    </tr>\n",
       "    <tr>\n",
       "      <th>8394</th>\n",
       "      <td>4</td>\n",
       "      <td>7</td>\n",
       "      <td>8395</td>\n",
       "      <td>[1.1479613e-08, 1.0944727e-08, 1.0139887e-08, ...</td>\n",
       "    </tr>\n",
       "  </tbody>\n",
       "</table>\n",
       "<p>8395 rows × 4 columns</p>\n",
       "</div>"
      ],
      "text/plain": [
       "      session  scan_idx  unit_id  \\\n",
       "0           4         7        1   \n",
       "1           4         7        2   \n",
       "2           4         7        3   \n",
       "3           4         7        4   \n",
       "4           4         7        5   \n",
       "...       ...       ...      ...   \n",
       "8390        4         7     8391   \n",
       "8391        4         7     8392   \n",
       "8392        4         7     8393   \n",
       "8393        4         7     8394   \n",
       "8394        4         7     8395   \n",
       "\n",
       "                                                  trace  \n",
       "0     [3.1146147e-08, 7.376044, 0.05481007, 4.498487...  \n",
       "1     [1.2991421e-09, 8.378806e-09, 1.0194022e-08, 8...  \n",
       "2     [2.4717295e-08, 0.592512, 1.3852139e-07, 2.089...  \n",
       "3     [5.5165543e-09, 1.931786e-08, 1.7477124e-08, 1...  \n",
       "4     [9.728543e-09, 1.3600317, 3.9126465, 9.3379117...  \n",
       "...                                                 ...  \n",
       "8390  [6.219988e-08, 6.1504444e-08, 5.105616e-08, 4....  \n",
       "8391  [2.3322086e-08, 2.4178439e-08, 5.1480455e-08, ...  \n",
       "8392  [3.8553278e-08, 5.572705e-08, 1.3915052e-07, 5...  \n",
       "8393  [2.4268843e-08, 2.1006255e-08, 1.8668368e-08, ...  \n",
       "8394  [1.1479613e-08, 1.0944727e-08, 1.0139887e-08, ...  \n",
       "\n",
       "[8395 rows x 4 columns]"
      ]
     },
     "execution_count": 8,
     "metadata": {},
     "output_type": "execute_result"
    }
   ],
   "source": [
    "trace_df"
   ]
  },
  {
   "cell_type": "code",
   "execution_count": null,
   "id": "4cb1f13a-d12a-4ff0-945f-f9cab4d02ac6",
   "metadata": {},
   "outputs": [],
   "source": []
  }
 ],
 "metadata": {
  "kernelspec": {
   "display_name": "Python 3 (ipykernel)",
   "language": "python",
   "name": "python3"
  },
  "language_info": {
   "codemirror_mode": {
    "name": "ipython",
    "version": 3
   },
   "file_extension": ".py",
   "mimetype": "text/x-python",
   "name": "python",
   "nbconvert_exporter": "python",
   "pygments_lexer": "ipython3",
   "version": "3.9.12"
  }
 },
 "nbformat": 4,
 "nbformat_minor": 5
}
