{
 "cells": [
  {
   "cell_type": "code",
   "execution_count": 1,
   "id": "fccc8e93-42ef-4fb3-bea0-8f8921588423",
   "metadata": {
    "tags": []
   },
   "outputs": [
    {
     "name": "stdout",
     "output_type": "stream",
     "text": [
      "Connecting microns@db.datajoint.com:3306\n"
     ]
    },
    {
     "name": "stderr",
     "output_type": "stream",
     "text": [
      "/opt/conda/lib/python3.9/site-packages/tqdm/auto.py:22: TqdmWarning: IProgress not found. Please update jupyter and ipywidgets. See https://ipywidgets.readthedocs.io/en/stable/user_install.html\n",
      "  from .autonotebook import tqdm as notebook_tqdm\n"
     ]
    }
   ],
   "source": [
    "import os\n",
    "os.environ['DJ_HOST']=\"db.datajoint.com\"\n",
    "os.environ['DJ_USER']=\"microns\"\n",
    "os.environ['DJ_PASS']=\"microns2023\"\n",
    "os.environ['DATABASE_PREFIX']=\"microns_\"\n",
    "\n",
    "import datajoint as dj\n",
    "from microns_phase3 import nda, utils\n",
    " "
   ]
  },
  {
   "cell_type": "code",
   "execution_count": 2,
   "id": "6cd9de54-2639-44d4-af42-c320be4822d6",
   "metadata": {
    "tags": []
   },
   "outputs": [],
   "source": [
    "import pandas as pd\n",
    "import numpy as np"
   ]
  },
  {
   "cell_type": "code",
   "execution_count": 3,
   "id": "377eb3ac-c0b7-4d96-8877-1b79e3de6ddd",
   "metadata": {
    "tags": []
   },
   "outputs": [],
   "source": [
    "scan_df = pd.DataFrame(nda.Scan & nda.ScanInclude)"
   ]
  },
  {
   "cell_type": "code",
   "execution_count": 24,
   "id": "60d7992d-aa35-4bc3-91e7-d620eb4beb70",
   "metadata": {
    "tags": []
   },
   "outputs": [
    {
     "data": {
      "text/html": [
       "<div>\n",
       "<style scoped>\n",
       "    .dataframe tbody tr th:only-of-type {\n",
       "        vertical-align: middle;\n",
       "    }\n",
       "\n",
       "    .dataframe tbody tr th {\n",
       "        vertical-align: top;\n",
       "    }\n",
       "\n",
       "    .dataframe thead th {\n",
       "        text-align: right;\n",
       "    }\n",
       "</style>\n",
       "<table border=\"1\" class=\"dataframe\">\n",
       "  <thead>\n",
       "    <tr style=\"text-align: right;\">\n",
       "      <th></th>\n",
       "      <th>session</th>\n",
       "      <th>scan_idx</th>\n",
       "      <th>nframes</th>\n",
       "      <th>nfields</th>\n",
       "      <th>fps</th>\n",
       "    </tr>\n",
       "  </thead>\n",
       "  <tbody>\n",
       "    <tr>\n",
       "      <th>0</th>\n",
       "      <td>4</td>\n",
       "      <td>7</td>\n",
       "      <td>40000</td>\n",
       "      <td>8</td>\n",
       "      <td>6.30090</td>\n",
       "    </tr>\n",
       "    <tr>\n",
       "      <th>1</th>\n",
       "      <td>5</td>\n",
       "      <td>6</td>\n",
       "      <td>40000</td>\n",
       "      <td>8</td>\n",
       "      <td>6.30090</td>\n",
       "    </tr>\n",
       "    <tr>\n",
       "      <th>2</th>\n",
       "      <td>5</td>\n",
       "      <td>7</td>\n",
       "      <td>40000</td>\n",
       "      <td>8</td>\n",
       "      <td>6.30090</td>\n",
       "    </tr>\n",
       "    <tr>\n",
       "      <th>3</th>\n",
       "      <td>6</td>\n",
       "      <td>2</td>\n",
       "      <td>40000</td>\n",
       "      <td>8</td>\n",
       "      <td>6.30090</td>\n",
       "    </tr>\n",
       "    <tr>\n",
       "      <th>4</th>\n",
       "      <td>6</td>\n",
       "      <td>4</td>\n",
       "      <td>40000</td>\n",
       "      <td>8</td>\n",
       "      <td>6.30090</td>\n",
       "    </tr>\n",
       "    <tr>\n",
       "      <th>5</th>\n",
       "      <td>6</td>\n",
       "      <td>6</td>\n",
       "      <td>40000</td>\n",
       "      <td>8</td>\n",
       "      <td>6.30090</td>\n",
       "    </tr>\n",
       "    <tr>\n",
       "      <th>6</th>\n",
       "      <td>6</td>\n",
       "      <td>7</td>\n",
       "      <td>40000</td>\n",
       "      <td>8</td>\n",
       "      <td>6.30090</td>\n",
       "    </tr>\n",
       "    <tr>\n",
       "      <th>7</th>\n",
       "      <td>7</td>\n",
       "      <td>3</td>\n",
       "      <td>40000</td>\n",
       "      <td>8</td>\n",
       "      <td>6.30090</td>\n",
       "    </tr>\n",
       "    <tr>\n",
       "      <th>8</th>\n",
       "      <td>7</td>\n",
       "      <td>4</td>\n",
       "      <td>40000</td>\n",
       "      <td>8</td>\n",
       "      <td>6.30090</td>\n",
       "    </tr>\n",
       "    <tr>\n",
       "      <th>9</th>\n",
       "      <td>7</td>\n",
       "      <td>5</td>\n",
       "      <td>40000</td>\n",
       "      <td>8</td>\n",
       "      <td>6.30090</td>\n",
       "    </tr>\n",
       "    <tr>\n",
       "      <th>10</th>\n",
       "      <td>8</td>\n",
       "      <td>5</td>\n",
       "      <td>40000</td>\n",
       "      <td>8</td>\n",
       "      <td>6.30090</td>\n",
       "    </tr>\n",
       "    <tr>\n",
       "      <th>11</th>\n",
       "      <td>9</td>\n",
       "      <td>3</td>\n",
       "      <td>50000</td>\n",
       "      <td>6</td>\n",
       "      <td>8.61754</td>\n",
       "    </tr>\n",
       "    <tr>\n",
       "      <th>12</th>\n",
       "      <td>9</td>\n",
       "      <td>4</td>\n",
       "      <td>50000</td>\n",
       "      <td>6</td>\n",
       "      <td>8.61754</td>\n",
       "    </tr>\n",
       "    <tr>\n",
       "      <th>13</th>\n",
       "      <td>9</td>\n",
       "      <td>6</td>\n",
       "      <td>57000</td>\n",
       "      <td>4</td>\n",
       "      <td>9.62246</td>\n",
       "    </tr>\n",
       "  </tbody>\n",
       "</table>\n",
       "</div>"
      ],
      "text/plain": [
       "    session  scan_idx  nframes  nfields      fps\n",
       "0         4         7    40000        8  6.30090\n",
       "1         5         6    40000        8  6.30090\n",
       "2         5         7    40000        8  6.30090\n",
       "3         6         2    40000        8  6.30090\n",
       "4         6         4    40000        8  6.30090\n",
       "5         6         6    40000        8  6.30090\n",
       "6         6         7    40000        8  6.30090\n",
       "7         7         3    40000        8  6.30090\n",
       "8         7         4    40000        8  6.30090\n",
       "9         7         5    40000        8  6.30090\n",
       "10        8         5    40000        8  6.30090\n",
       "11        9         3    50000        6  8.61754\n",
       "12        9         4    50000        6  8.61754\n",
       "13        9         6    57000        4  9.62246"
      ]
     },
     "execution_count": 24,
     "metadata": {},
     "output_type": "execute_result"
    }
   ],
   "source": [
    "scan_df"
   ]
  },
  {
   "cell_type": "code",
   "execution_count": 4,
   "id": "84ad4860-edd9-4150-80cb-dce943a91c88",
   "metadata": {
    "tags": []
   },
   "outputs": [
    {
     "name": "stdout",
     "output_type": "stream",
     "text": [
      "CPU times: user 8.99 ms, sys: 165 µs, total: 9.16 ms\n",
      "Wall time: 8.89 ms\n"
     ]
    }
   ],
   "source": [
    "%%time \n",
    "\n",
    "for _, scan_row in scan_df.iterrows():\n",
    "    scan_key = scan_row[[\"session\", \"scan_idx\"]].astype(int).to_dict()"
   ]
  },
  {
   "cell_type": "code",
   "execution_count": 17,
   "id": "196f7a16-02c7-4d55-90f6-9204e8bef1b2",
   "metadata": {
    "tags": []
   },
   "outputs": [],
   "source": [
    "pupil_df = pd.DataFrame(nda.ManualPupil())"
   ]
  },
  {
   "cell_type": "code",
   "execution_count": 18,
   "id": "48e13161-bd8d-492c-b626-d0e420245a9f",
   "metadata": {
    "tags": []
   },
   "outputs": [],
   "source": [
    "treadmill_df = pd.DataFrame(nda.Treadmill())"
   ]
  },
  {
   "cell_type": "code",
   "execution_count": 22,
   "id": "d37f91a8-b494-4c70-ae89-13b2bb4fe08b",
   "metadata": {
    "tags": []
   },
   "outputs": [],
   "source": [
    "behavior_df = pd.merge(pupil_df, treadmill_df, on=[\"session\", \"scan_idx\"])"
   ]
  },
  {
   "cell_type": "code",
   "execution_count": 23,
   "id": "2d0031df-37cd-4a85-8935-7463686944ab",
   "metadata": {
    "tags": []
   },
   "outputs": [],
   "source": [
    "out_path = f\"../scratch/behavior\"\n",
    "behavior_df.to_feather(out_path, compression=\"zstd\")"
   ]
  },
  {
   "cell_type": "code",
   "execution_count": null,
   "id": "1de2f359-499b-4ea0-8062-74c44df4c6e1",
   "metadata": {},
   "outputs": [],
   "source": [
    "scan_unit_df = pd.DataFrame(nda.ScanUnit())"
   ]
  }
 ],
 "metadata": {
  "kernelspec": {
   "display_name": "Python 3 (ipykernel)",
   "language": "python",
   "name": "python3"
  },
  "language_info": {
   "codemirror_mode": {
    "name": "ipython",
    "version": 3
   },
   "file_extension": ".py",
   "mimetype": "text/x-python",
   "name": "python",
   "nbconvert_exporter": "python",
   "pygments_lexer": "ipython3",
   "version": "3.9.12"
  }
 },
 "nbformat": 4,
 "nbformat_minor": 5
}
